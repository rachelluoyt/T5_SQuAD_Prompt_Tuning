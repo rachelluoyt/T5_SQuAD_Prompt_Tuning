{
 "cells": [
  {
   "cell_type": "code",
   "execution_count": null,
   "id": "5eb092c5",
   "metadata": {},
   "outputs": [],
   "source": [
    "from prepare_data import create_or_load\n",
    "from collator import T2TDataCollator\n",
    "from transformers import AdamW, get_scheduler, Trainer, TrainingArguments\n",
    "from transformers import T5Tokenizer\n",
    "from model import T5PromptTuningLM"
   ]
  },
  {
   "cell_type": "code",
   "execution_count": null,
   "id": "8ba79cd6",
   "metadata": {},
   "outputs": [],
   "source": [
    "tokenizer = T5Tokenizer.from_pretrained(\"t5-base\")\n",
    "train_dataset, valid_dataset = create_or_load(tokenizer)"
   ]
  },
  {
   "cell_type": "code",
   "execution_count": null,
   "id": "d89df355",
   "metadata": {},
   "outputs": [],
   "source": [
    "# if you want to train\n",
    "model = T5PromptTuningLM.from_pretrained(\n",
    "    \"t5-base\",\n",
    "    n_tokens=args.n_prompt_tokens,\n",
    "    initialize_from_vocab=args.init_from_vocab)\n",
    "\n",
    "# if you want to use an existing prompt to do inference\n",
    "# model = T5PromptTuningLM.from_pretrained('t5-base', \n",
    "#                                           return_dict=False, \n",
    "#                                           soft_prompt_path='soft_prompts/soft_prompt.model')"
   ]
  },
  {
   "cell_type": "code",
   "execution_count": null,
   "id": "5763759b",
   "metadata": {},
   "outputs": [],
   "source": [
    "# Set up training arguments, optimizers, etc\n",
    "\n",
    "class Config:\n",
    "    # Prompt-tuning\n",
    "    n_prompt_tokens = 10\n",
    "    init_from_vocab = True\n",
    "    # random_range = 0.5\n",
    "args = Config()\n",
    "\n",
    "optimizer_grouped_parameters = [\n",
    "    {\n",
    "        \"params\": [p for n, p in model.named_parameters() if n == \"soft_prompt.weight\"],\n",
    "    }\n",
    "]\n",
    "optimizer = AdamW(optimizer_grouped_parameters)\n",
    "lr_scheduler = get_scheduler(\n",
    "    name='cosine',\n",
    "    num_warmup_steps=0,\n",
    "    optimizer=optimizer,\n",
    "    num_training_steps=3,\n",
    ")\n",
    "\n",
    "training_args = TrainingArguments(\n",
    "    output_dir='./results',          # output directory\n",
    "    per_device_train_batch_size=8,  # batch size per device during training\n",
    "    per_device_eval_batch_size=32,   # batch size for evaluation\n",
    "    logging_dir='./logs',            # directory for storing logs\n",
    "    logging_steps=100,\n",
    "    save_steps=3000,\n",
    "    report_to='tensorboard',\n",
    "    prediction_loss_only=True,\n",
    ")"
   ]
  },
  {
   "cell_type": "code",
   "execution_count": null,
   "id": "e72846f7",
   "metadata": {},
   "outputs": [],
   "source": [
    "# Initialize trainer\n",
    "\n",
    "trainer = Trainer(\n",
    "        model=model,\n",
    "        args=training_args,\n",
    "        train_dataset=train_dataset,\n",
    "        eval_dataset=valid_dataset,\n",
    "        data_collator=T2TDataCollator(),\n",
    "        optimizers=(optimizer, lr_scheduler),\n",
    "    )"
   ]
  },
  {
   "cell_type": "code",
   "execution_count": null,
   "id": "96823320",
   "metadata": {},
   "outputs": [],
   "source": [
    "# start training\n",
    "\n",
    "trainer.train()"
   ]
  },
  {
   "cell_type": "code",
   "execution_count": null,
   "id": "943d8757",
   "metadata": {},
   "outputs": [],
   "source": [
    "# start evaluate\n",
    "\n",
    "trainer.evaluate()"
   ]
  },
  {
   "cell_type": "code",
   "execution_count": null,
   "id": "d9ca0063",
   "metadata": {},
   "outputs": [],
   "source": [
    "# making predictions\n",
    "\n",
    "# question = 'In what country is Normandy located?'\n",
    "question = 'When were the Normans in Normandy?'\n",
    "context = 'The Normans (Norman: Nourmands; French: Normands; Latin: Normanni) were the people who in the 10th and 11th centuries gave their name to Normandy, a region in France. They were descended from Norse (\"Norman\" comes from \"Norseman\") raiders and pirates from Denmark, Iceland and Norway who, under their leader Rollo, agreed to swear fealty to King Charles III of West Francia. Through generations of assimilation and mixing with the native Frankish and Roman-Gaulish populations, their descendants would gradually merge with the Carolingian-based cultures of West Francia. The distinct cultural and ethnic identity of the Normans emerged initially in the first half of the 10th century, and it continued to evolve over the succeeding centuries.'\n",
    "\n",
    "# question = 'Who was the duke in the battle of Hastings?'\n",
    "# context = 'The Norman dynasty had a major political, cultural and military impact on medieval Europe and even the Near East. The Normans were famed for their martial spirit and eventually for their Christian piety, becoming exponents of the Catholic orthodoxy into which they assimilated. They adopted the Gallo-Romance language of the Frankish land they settled, their dialect becoming known as Norman, Normaund or Norman French, an important literary language. The Duchy of Normandy, which they formed by treaty with the French crown, was a great fief of medieval France, and under Richard I of Normandy was forged into a cohesive and formidable principality in feudal tenure. The Normans are noted both for their culture, such as their unique Romanesque architecture and musical traditions, and for their significant military accomplishments and innovations. Norman adventurers founded the Kingdom of Sicily under Roger II after conquering southern Italy on the Saracens and Byzantines, and an expedition on behalf of their duke, William the Conqueror, led to the Norman conquest of England at the Battle of Hastings in 1066. Norman cultural and military influence spread from these new European centres to the Crusader states of the Near East, where their prince Bohemond I founded the Principality of Antioch in the Levant, to Scotland and Wales in Great Britain, to Ireland, and to the coasts of north Africa and the Canary Islands.'\n",
    "\n",
    "# question = \"When was the Latin version of the word Norman first recorded?\"\n",
    "# context = \"The English name 'Normans' comes from the French words Normans/Normanz, plural of Normant, modern French normand, which is itself borrowed from Old Low Franconian Nortmann 'Northman' or directly from Old Norse Norðmaðr, Latinized variously as Nortmannus, Normannus, or Nordmannus (recorded in Medieval Latin, 9th century) to mean 'Norseman, Viking'.\"\n",
    "\n",
    "# question = 'When was the Duchy of Normandy founded?'\n",
    "# context = 'In the course of the 10th century, the initially destructive incursions of Norse war bands into the rivers of France evolved into more permanent encampments that included local women and personal property. The Duchy of Normandy, which began in 911 as a fiefdom, was established by the treaty of Saint-Clair-sur-Epte between King Charles III of West Francia and the famed Viking ruler Rollo, and was situated in the former Frankish kingdom of Neustria. The treaty offered Rollo and his men the French lands between the river Epte and the Atlantic coast in exchange for their protection against further Viking incursions. The area corresponded to the northern part of present-day Upper Normandy down to the river Seine, but the Duchy would eventually extend west beyond the Seine. The territory was roughly equivalent to the old province of Rouen, and reproduced the Roman administrative structure of Gallia Lugdunensis II (part of the former Gallia Lugdunensis).'\n",
    "\n",
    "input_ids = tokenizer.encode('question: %s  context: %s </s>' % (question, context), \n",
    "                             return_tensors='pt')\n",
    "# input_ids = input_ids.cuda()\n",
    "\n",
    "encoder_outputs = model.forward(input_ids, to_encoder_only=True)\n",
    "indices = model.generate(\n",
    "    encoder_outputs=encoder_outputs, \n",
    "#     min_length=10, \n",
    "#     repetition_penalty=2.,\n",
    "                        )\n",
    "[tokenizer.decode(idx) for idx in indices]"
   ]
  }
 ],
 "metadata": {
  "kernelspec": {
   "display_name": "Python 3",
   "language": "python",
   "name": "python3"
  },
  "language_info": {
   "codemirror_mode": {
    "name": "ipython",
    "version": 3
   },
   "file_extension": ".py",
   "mimetype": "text/x-python",
   "name": "python",
   "nbconvert_exporter": "python",
   "pygments_lexer": "ipython3",
   "version": "3.8.8"
  }
 },
 "nbformat": 4,
 "nbformat_minor": 5
}
