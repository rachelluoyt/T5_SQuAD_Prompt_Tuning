{
 "cells": [
  {
   "cell_type": "code",
   "execution_count": 2,
   "id": "8cd01e0e",
   "metadata": {
    "scrolled": true
   },
   "outputs": [],
   "source": [
    "from transformers import T5Tokenizer, T5ForConditionalGeneration"
   ]
  },
  {
   "cell_type": "code",
   "execution_count": 5,
   "id": "1bc2e28b",
   "metadata": {},
   "outputs": [
    {
     "name": "stdout",
     "output_type": "stream",
     "text": [
      "Mon Oct 25 21:48:42 2021       \r\n",
      "+-----------------------------------------------------------------------------+\r\n",
      "| NVIDIA-SMI 384.81                 Driver Version: 460.67                    |\r\n",
      "|-------------------------------+----------------------+----------------------+\r\n",
      "| GPU  Name        Persistence-M| Bus-Id        Disp.A | Volatile Uncorr. ECC |\r\n",
      "| Fan  Temp  Perf  Pwr:Usage/Cap|         Memory-Usage | GPU-Util  Compute M. |\r\n",
      "|===============================+======================+======================|\r\n",
      "|   0  GeForce GTX 108...  Off  | 00000000:60:00.0 Off |                  N/A |\r\n",
      "| 28%   31C    P8     9W / 250W |      0MiB / 11178MiB |      0%      Default |\r\n",
      "+-------------------------------+----------------------+----------------------+\r\n",
      "                                                                               \r\n",
      "+-----------------------------------------------------------------------------+\r\n",
      "| Processes:                                                       GPU Memory |\r\n",
      "|  GPU       PID   Type   Process name                             Usage      |\r\n",
      "|=============================================================================|\r\n",
      "Internal error\r\n"
     ]
    }
   ],
   "source": [
    "!nvidia-smi"
   ]
  },
  {
   "cell_type": "code",
   "execution_count": 1,
   "id": "4a93bcb3",
   "metadata": {},
   "outputs": [],
   "source": [
    "import torch\n",
    "import torch.nn as nn\n",
    "from soft_embedding import SoftEmbedding"
   ]
  },
  {
   "cell_type": "code",
   "execution_count": 6,
   "id": "5cf9e6d7",
   "metadata": {},
   "outputs": [],
   "source": [
    "n_tokens = 20\n",
    "initialize_from_vocab = True\n",
    "\n",
    "tokenizer = T5Tokenizer.from_pretrained(\"t5-small\")\n",
    "model = T5ForConditionalGeneration.from_pretrained(\"t5-small\")\n",
    "\n",
    "s_wte = SoftEmbedding(model.get_input_embeddings(), \n",
    "                      n_tokens=n_tokens, \n",
    "                      initialize_from_vocab=initialize_from_vocab)\n",
    "\n",
    "model.set_input_embeddings(s_wte)"
   ]
  },
  {
   "cell_type": "code",
   "execution_count": 14,
   "id": "5e4199a8",
   "metadata": {},
   "outputs": [],
   "source": [
    "def generate_data(batch_size, n_tokens, title_data, label_data):\n",
    "\n",
    "    labels = [\n",
    "        torch.tensor([[3]]),  # \\x00\n",
    "        torch.tensor([[4]]),  # \\x01\n",
    "        torch.tensor([[5]]),  # \\x02\n",
    "    ]\n",
    "\n",
    "    def yield_data(x_batch, y_batch, l_batch):\n",
    "        x = torch.nn.utils.rnn.pad_sequence(x_batch, batch_first=True)\n",
    "        y = torch.cat(y_batch, dim=0)\n",
    "        m = (x > 0).to(torch.float32)\n",
    "        decoder_input_ids = torch.full((x.size(0), n_tokens), 1)\n",
    "        if torch.cuda.is_available():\n",
    "            x = x.cuda()\n",
    "            y = y.cuda()\n",
    "            m = m.cuda()\n",
    "            decoder_input_ids = decoder_input_ids.cuda()\n",
    "        return x, y, m, decoder_input_ids, l_batch\n",
    "\n",
    "    x_batch, y_batch, l_batch = [], [], []\n",
    "    for x, y in zip(title_data, label_data):\n",
    "        context = x\n",
    "        inputs = tokenizer(context, return_tensors=\"pt\")\n",
    "        inputs['input_ids'] = torch.cat([torch.full((1, n_tokens), 1), inputs['input_ids']], 1)\n",
    "        l_batch.append(y)\n",
    "        y = labels[y]\n",
    "        y = torch.cat([torch.full((1, n_tokens - 1), -100), y], 1)\n",
    "        x_batch.append(inputs['input_ids'][0])\n",
    "        y_batch.append(y)\n",
    "        if len(x_batch) >= batch_size:\n",
    "            yield yield_data(x_batch, y_batch, l_batch)\n",
    "            x_batch, y_batch, l_batch = [], [], []\n",
    "\n",
    "    if len(x_batch) > 0:\n",
    "        yield yield_data(x_batch, y_batch, l_batch)\n",
    "        x_batch, y_batch, l_batch = [], [], []"
   ]
  },
  {
   "cell_type": "code",
   "execution_count": 15,
   "id": "9e3c4419",
   "metadata": {},
   "outputs": [],
   "source": [
    "# freeze parameters\n",
    "parameters = list(model.parameters())\n",
    "for x in parameters[1:]:\n",
    "    x.requires_grad = False"
   ]
  },
  {
   "cell_type": "code",
   "execution_count": 38,
   "id": "4e69ae68",
   "metadata": {},
   "outputs": [],
   "source": [
    "tokenizer = T5Tokenizer.from_pretrained(\"t5-small\")\n",
    "model = T5ForConditionalGeneration.from_pretrained(\"t5-small\")\n",
    "\n",
    "max_source_length = 512\n",
    "max_target_length = 128\n",
    "\n",
    "# Suppose we have the following 2 training examples:\n",
    "input_sequence_1 = \"Welcome to NYC\"\n",
    "output_sequence_1 = \"Bienvenue à NYC\"\n",
    "\n",
    "input_sequence_2 = \"HuggingFace is a company\"\n",
    "output_sequence_2 = \"HuggingFace est une entreprise\"\n",
    "\n",
    "# encode the inputs\n",
    "task_prefix = \"translate English to French: \"\n",
    "input_sequences = [input_sequence_1, input_sequence_2]\n",
    "encoding = tokenizer([task_prefix + sequence for sequence in input_sequences],\n",
    "                     padding='longest',\n",
    "                     max_length=max_source_length,\n",
    "                     truncation=True,\n",
    "                     return_tensors=\"pt\")\n",
    "input_ids, attention_mask = encoding.input_ids, encoding.attention_mask\n",
    "\n",
    "# encode the targets\n",
    "target_encoding = tokenizer([output_sequence_1, output_sequence_2],\n",
    "                            padding='longest',\n",
    "                            max_length=max_target_length,\n",
    "                            truncation=True)\n",
    "labels = target_encoding.input_ids\n",
    "\n",
    "# replace padding token id's of the labels by -100\n",
    "labels = [\n",
    "           [(label if label != tokenizer.pad_token_id else -100) for label in labels_example] for labels_example in labels\n",
    "]\n",
    "labels = torch.tensor(labels)\n",
    "\n",
    "# forward pass\n",
    "loss = model(input_ids=input_ids, attention_mask=attention_mask, labels=labels).loss"
   ]
  },
  {
   "cell_type": "code",
   "execution_count": 39,
   "id": "a00b47d5",
   "metadata": {},
   "outputs": [
    {
     "data": {
      "text/plain": [
       "tensor(0.1880, grad_fn=<NllLossBackward>)"
      ]
     },
     "execution_count": 39,
     "metadata": {},
     "output_type": "execute_result"
    }
   ],
   "source": [
    "loss"
   ]
  },
  {
   "cell_type": "code",
   "execution_count": null,
   "id": "218745c4",
   "metadata": {},
   "outputs": [],
   "source": []
  }
 ],
 "metadata": {
  "kernelspec": {
   "display_name": "Python 3 (clean)",
   "language": "python",
   "name": "python3_clean"
  },
  "language_info": {
   "codemirror_mode": {
    "name": "ipython",
    "version": 3
   },
   "file_extension": ".py",
   "mimetype": "text/x-python",
   "name": "python",
   "nbconvert_exporter": "python",
   "pygments_lexer": "ipython3",
   "version": "3.9.5"
  }
 },
 "nbformat": 4,
 "nbformat_minor": 5
}
